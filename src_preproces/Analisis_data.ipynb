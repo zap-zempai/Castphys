{
 "cells": [
  {
   "cell_type": "markdown",
   "metadata": {},
   "source": [
    "#### Imports"
   ]
  },
  {
   "cell_type": "code",
   "execution_count": null,
   "metadata": {},
   "outputs": [],
   "source": [
    "## llibrerias\n",
    "from pathlib import Path\n",
    "import pandas as pd\n",
    "from glob import glob\n",
    "import matplotlib\n",
    "import matplotlib.pyplot as plt\n",
    "import numpy as np\n",
    "import cv2\n",
    "from tqdm import tqdm\n",
    "import os\n",
    "import imageio\n",
    "from IPython.display import Image\n",
    "\n",
    "## Funcions propies\n",
    "from src_preproces.psychopy_extractor.parser import create_all_sub_folder\n",
    "from src_preproces.biosignalsplux.biosignalsProcessor import open_signals_npy\n",
    "from src_preproces.rPPG_extraction.rPPG_POS_method import rPPG_detector"
   ]
  },
  {
   "cell_type": "markdown",
   "metadata": {},
   "source": [
    "#### Inicialització"
   ]
  },
  {
   "cell_type": "code",
   "execution_count": null,
   "metadata": {},
   "outputs": [],
   "source": [
    "## Paths\n",
    "path_init = Path(\"D:/TFG_ALEX/\")\n",
    "path_infos = path_init / \"cleaned_data\"\n",
    "path_patients = path_init / \"raw_data/recordings\"\n",
    "path_img_save = Path(\"../imatges\") ## carpeta on guardar imatges"
   ]
  },
  {
   "cell_type": "code",
   "execution_count": null,
   "metadata": {},
   "outputs": [],
   "source": [
    "create_all_sub_folder(\n",
    "    psychopy_folder = path_init / \"raw_data/psychopy_annotations/data\",\n",
    "    destiny_folder = path_infos    \n",
    "    )"
   ]
  },
  {
   "cell_type": "markdown",
   "metadata": {},
   "source": [
    "### Analicis dels subjectes"
   ]
  },
  {
   "cell_type": "markdown",
   "metadata": {},
   "source": [
    "#### Crear a pd amb la informacio de cada subjecte"
   ]
  },
  {
   "cell_type": "code",
   "execution_count": null,
   "metadata": {},
   "outputs": [],
   "source": [
    "name_file = \"demographic.csv\"\n",
    "subs_folder = glob(\"sub_*\", root_dir=path_infos)\n",
    "#print(subs_folder)\n",
    "\n",
    "subject_df = pd.read_csv(path_infos / subs_folder[0] / name_file)\n",
    "for sub in subs_folder[1:]:\n",
    "    subject_df2 = pd.read_csv(path_infos / sub / name_file)\n",
    "    subject_df = pd.concat([subject_df, subject_df2], ignore_index = True)\n",
    "\n",
    "subject_df = subject_df.sort_values(by = \"subject_id\")\n",
    "subject_df = subject_df.reset_index(drop = True)\n",
    "subject_df"
   ]
  },
  {
   "cell_type": "markdown",
   "metadata": {},
   "source": [
    "#### Genera"
   ]
  },
  {
   "cell_type": "code",
   "execution_count": null,
   "metadata": {},
   "outputs": [],
   "source": [
    "gender = subject_df[\"gender\"].unique()\n",
    "count_g = [len(subject_df[subject_df[\"gender\"] == x]) for x in gender]\n",
    "clr_g = ['orange','dodgerblue','green','grey']\n",
    "\n",
    "fig, ax = plt.subplots()\n",
    "ax.bar(gender, count_g, color=clr_g)\n",
    "ax.set_yticklabels([])\n",
    "for i,n in enumerate(count_g):\n",
    "    ax.text( i , n, n, ha='center', va='bottom')\n",
    "plt.show()"
   ]
  },
  {
   "cell_type": "markdown",
   "metadata": {},
   "source": [
    "#### Age"
   ]
  },
  {
   "cell_type": "code",
   "execution_count": null,
   "metadata": {},
   "outputs": [],
   "source": [
    "age = np.arange(subject_df[\"age\"].min(), subject_df[\"age\"].max()+1)\n",
    "count_a = [len(subject_df[subject_df[\"age\"] == x]) for x in age]\n",
    "#print(age)\n",
    "#print(count_a)\n",
    "\n",
    "fig, ax = plt.subplots()\n",
    "ax.bar(age, count_a, align='center')\n",
    "plt.xticks(age)\n",
    "ax.yaxis.grid(True, which='major')\n",
    "plt.ylabel('Count')\n",
    "plt.xlabel('Age')\n",
    "plt.show()"
   ]
  },
  {
   "cell_type": "markdown",
   "metadata": {},
   "source": [
    "#### Ethnicity"
   ]
  },
  {
   "cell_type": "code",
   "execution_count": null,
   "metadata": {},
   "outputs": [],
   "source": [
    "ethnicity = subject_df[\"ethnicity\"].unique()\n",
    "count_e = [len(subject_df[subject_df[\"ethnicity\"] == x]) for x in ethnicity]\n",
    "\n",
    "fig, ax = plt.subplots()\n",
    "ax.pie(count_e, labels=ethnicity)\n",
    "ax.set_title(\"Ethnicity\")\n",
    "plt.show()"
   ]
  },
  {
   "cell_type": "markdown",
   "metadata": {},
   "source": [
    "### EDA analisis"
   ]
  },
  {
   "cell_type": "markdown",
   "metadata": {},
   "source": [
    "#### id --> numero del pacient"
   ]
  },
  {
   "cell_type": "code",
   "execution_count": null,
   "metadata": {},
   "outputs": [],
   "source": [
    "patients_number = [int(x.split('_')[1]) for x in glob(\"Patient_*\", root_dir=path_patients)]\n",
    "id2num = {}\n",
    "for n in patients_number:\n",
    "    try:\n",
    "        with open(path_patients / f\"Patient_{n}/meta_{n}.txt\") as meta:\n",
    "            id = int(meta.readline().split(',')[1][:-1])\n",
    "        id2num[id] = n\n",
    "    except:\n",
    "        print(f\"La carpeta Patient_{n} no conte el archiu meta_{n}.txt\")\n",
    "\n",
    "id2num\n"
   ]
  },
  {
   "cell_type": "markdown",
   "metadata": {},
   "source": [
    "#### per a un pacient nomes"
   ]
  },
  {
   "cell_type": "code",
   "execution_count": null,
   "metadata": {},
   "outputs": [],
   "source": [
    "id = 19\n",
    "path_pat = path_patients / f\"Patient_{id2num[id]}\"\n",
    "df_signal = open_signals_npy(path_pat)\n",
    "df_signal"
   ]
  },
  {
   "cell_type": "code",
   "execution_count": null,
   "metadata": {},
   "outputs": [],
   "source": [
    "id = 2\n",
    "path_pat = path_patients / f\"Patient_{id2num[id]}\"\n",
    "df_signal = open_signals_npy(path_pat)\n",
    "fig, ax = plt.subplots()\n",
    "ax.plot(df_signal['time'], df_signal['eda'])\n",
    "plt.ylabel('EDA')\n",
    "plt.xlabel('Time')\n",
    "ax.set_title(f\"Id: {id}\")\n",
    "plt.show()"
   ]
  },
  {
   "cell_type": "code",
   "execution_count": null,
   "metadata": {},
   "outputs": [],
   "source": [
    "fig, axs = plt.subplots(2)\n",
    "fig.set_size_inches(12,7)\n",
    "plt.subplots_adjust(hspace=0.35)\n",
    "\n",
    "id = 42\n",
    "path_pat = path_patients / f\"Patient_{id2num[id]}\"\n",
    "df_signal = open_signals_npy(path_pat)\n",
    "df_signal['timestamp'] = df_signal.time.apply(lambda y : y.timestamp())\n",
    "df_signal['timestamp'] = df_signal['timestamp'] - df_signal['timestamp'][0]\n",
    "\n",
    "axs[0].plot(df_signal['timestamp'], df_signal['eda'])\n",
    "axs[0].set_ylabel('EDA')\n",
    "axs[0].set_xlabel('Temps [s]')\n",
    "\n",
    "\n",
    "id = 54\n",
    "path_pat = path_patients / f\"Patient_{id2num[id]}\"\n",
    "df_signal = open_signals_npy(path_pat)\n",
    "df_signal['timestamp'] = df_signal.time.apply(lambda y : y.timestamp())\n",
    "df_signal['timestamp'] = df_signal['timestamp'] - df_signal['timestamp'][0]\n",
    "\n",
    "axs[1].plot(df_signal['timestamp'], df_signal['eda'])\n",
    "axs[1].set_ylabel('EDA')\n",
    "axs[1].set_xlabel('Temps [s]')\n",
    "plt.show()"
   ]
  },
  {
   "cell_type": "markdown",
   "metadata": {},
   "source": [
    "#### Per a tots els pacients"
   ]
  },
  {
   "cell_type": "code",
   "execution_count": null,
   "metadata": {},
   "outputs": [],
   "source": [
    "n = int(np.ceil(np.sqrt(len(id2num))))\n",
    "#print(len(id2num),n)\n",
    "#print(n,n if n*n==len(id2num) else n+1)\n",
    "ids_list = sorted([i for i in id2num])\n",
    "m = int(np.ceil(len(id2num)/n))\n",
    "#print(n,m)\n",
    "\n",
    "fig, axs = plt.subplots(n,m)\n",
    "fig.set_size_inches(2*m,2*n)\n",
    "#axs.axis('off')\n",
    "for i, id in enumerate(ids_list):\n",
    "    df_signal = open_signals_npy(path_patients / f\"Patient_{id2num[id]}\")\n",
    "    pos = (i//m,i%m)\n",
    "    axs[pos[0],pos[1]].plot(df_signal['time'], df_signal['eda'])\n",
    "    axs[pos[0],pos[1]].set_title(f\"Id: {id}\")\n",
    "    axs[pos[0],pos[1]].set_xticklabels([])\n",
    "    axs[pos[0],pos[1]].set_yticklabels([])\n",
    "\n",
    "for i in range(n*m-len(id2num)):\n",
    "    pos = (n-1,m-i-1)\n",
    "    axs[pos[0],pos[1]].set_xticklabels([])\n",
    "    axs[pos[0],pos[1]].set_yticklabels([])\n",
    "\n",
    "#axs[n//2,0].ylabel('EDA')\n",
    "#axs[0,m//2].xlabel('Time')\n",
    "plt.savefig(path_img_save / \"EDA Grafics.jpg\", bbox_inches='tight')\n",
    "plt.show()"
   ]
  },
  {
   "cell_type": "markdown",
   "metadata": {},
   "source": [
    "#### Grafic rPPG"
   ]
  },
  {
   "cell_type": "code",
   "execution_count": null,
   "metadata": {},
   "outputs": [],
   "source": [
    "fig, axs = plt.subplots(2)\n",
    "fig.set_size_inches(6,7)\n",
    "plt.subplots_adjust(hspace=0.35)\n",
    "\n",
    "id = 42\n",
    "path_pat = path_patients / f\"Patient_{id2num[id]}\"\n",
    "df_signal = open_signals_npy(path_pat)\n",
    "df_signal['timestamp'] = df_signal.time.apply(lambda y : y.timestamp())\n",
    "df_signal['timestamp'] = df_signal['timestamp'] - df_signal['timestamp'][0]\n",
    "\n",
    "\n",
    "img_path = path_pat / 'imgs'\n",
    "bvp_signal, wang_signal, wang_signal_raw = rPPG_detector(img_path,df_signal,\n",
    "                                                         fps=30, time=5)\n",
    "\n",
    "axs[0].plot(np.array(range(len(bvp_signal)))/30, bvp_signal, label='PPG_signal')\n",
    "axs[0].plot(np.array(range(len(bvp_signal)))/30, wang_signal, label='rPPG_signal')\n",
    "#axs[0].plot(wang_signal_raw, label='rPPG_signal_POS_raw')\n",
    "axs[0].set_ylabel('PPG')\n",
    "axs[0].set_xlabel('Temps [s]')\n",
    "axs[0].legend(loc='upper right')\n",
    "\n",
    "\n",
    "id = 54\n",
    "path_pat = path_patients / f\"Patient_{id2num[id]}\"\n",
    "df_signal = open_signals_npy(path_pat)\n",
    "df_signal['timestamp'] = df_signal.time.apply(lambda y : y.timestamp())\n",
    "df_signal['timestamp'] = df_signal['timestamp'] - df_signal['timestamp'][0]\n",
    "\n",
    "img_path = path_pat / 'imgs'\n",
    "bvp_signal, wang_signal, wang_signal_raw = rPPG_detector(img_path,df_signal,\n",
    "                                                         fps=30, time=5)\n",
    "\n",
    "axs[1].plot(np.array(range(len(bvp_signal)))/30, bvp_signal, label='PPG_signal')\n",
    "axs[1].plot(np.array(range(len(bvp_signal)))/30, wang_signal, label='rPPG_signal')\n",
    "#axs[1].plot(wang_signal_raw, label='rPPG_signal_POS_raw')\n",
    "axs[1].set_ylabel('PPG')\n",
    "axs[1].set_xlabel('Temps [s]')\n",
    "#axs[1].legend()\n",
    "plt.show()"
   ]
  },
  {
   "cell_type": "code",
   "execution_count": null,
   "metadata": {},
   "outputs": [],
   "source": [
    "n = int(np.ceil(np.sqrt(len(id2num))))\n",
    "#print(len(id2num),n)\n",
    "#print(n,n if n*n==len(id2num) else n+1)\n",
    "ids_list = sorted([i for i in id2num])\n",
    "m = int(np.ceil(len(id2num)/n))\n",
    "#print(n,m)\n",
    "\n",
    "fig, axs = plt.subplots(n,m)\n",
    "fig.set_size_inches(2*m,2*n)\n",
    "for i, id in tqdm(enumerate(ids_list)):\n",
    "    dataset_path= path_patients / f'Patient_{id2num[id]}'\n",
    "    img_path = dataset_path / 'imgs'\n",
    "    df_bio = open_signals_npy(dataset_path)\n",
    "    bvp_signal, wang_signal, wang_signal_raw = rPPG_detector(img_path,df_bio,\n",
    "                                                             fps=30,\n",
    "                                                             time=5)\n",
    "    pos = (i//m,i%m)\n",
    "    axs[pos[0],pos[1]].plot(bvp_signal, label='PPG_signal')\n",
    "    axs[pos[0],pos[1]].plot(wang_signal, label='rPPG_signal')\n",
    "    axs[pos[0],pos[1]].plot(wang_signal_raw, label='rPPG_signal_POS_raw')\n",
    "    #axs[pos[0],pos[1]].legend()\n",
    "    axs[pos[0],pos[1]].set_title(f\"Id: {id}\")\n",
    "    axs[pos[0],pos[1]].set_xticklabels([])\n",
    "    axs[pos[0],pos[1]].set_yticklabels([])\n",
    "\n",
    "for i in range(n*m-len(id2num)):\n",
    "    pos = (n-1,m-i-1)\n",
    "    axs[pos[0],pos[1]].set_xticklabels([])\n",
    "    axs[pos[0],pos[1]].set_yticklabels([])\n",
    "\n",
    "plt.savefig(path_img_save / \"rPPG Grafics.jpg\", bbox_inches='tight')\n",
    "plt.show()"
   ]
  },
  {
   "cell_type": "code",
   "execution_count": null,
   "metadata": {},
   "outputs": [],
   "source": [
    "df = pd.read_csv(\"C:/Users/Xavi/Desktop/Dataset_init/id_bbox.csv\")\n",
    "\n",
    "if 10 not in list(df.patient):\n",
    "    print(1)\n"
   ]
  },
  {
   "cell_type": "code",
   "execution_count": null,
   "metadata": {},
   "outputs": [],
   "source": [
    "N = 10\n",
    "\n",
    "n = int(np.ceil(np.sqrt(N)))\n",
    "m = int(np.ceil(N/n))\n",
    "\n",
    "print(n,m)\n",
    "for i in range(N):\n",
    "    pos = (i//m,i%m)\n",
    "    print(pos)\n",
    "print(\"--------\")\n",
    "for i in range(n*m-N):\n",
    "    pos = (n-1,m-i-1)\n",
    "    print(pos)"
   ]
  },
  {
   "cell_type": "code",
   "execution_count": null,
   "metadata": {},
   "outputs": [],
   "source": [
    "t = 10\n",
    "fps=30\n",
    "\n",
    "for id in tqdm(id2num):\n",
    "    imgs_dir= path_patients / f'Patient_{id2num[id]}/imgs'\n",
    "    img_names = [_ for _ in os.listdir(imgs_dir) if '.png' in _]\n",
    "    pad = len(str(len(img_names)))\n",
    "    img_names.sort(key=lambda x: str(x.split('.')[0]).zfill(pad))\n",
    "    video = []\n",
    "    for i in range(0,len(img_names),t*60): # 60 == total fps\n",
    "        pic = imageio.imread(imgs_dir / img_names[i])\n",
    "        video.append(pic)\n",
    "\n",
    "    imageio.mimsave(path_img_save / f\"gifs/imgs_{id}.gif\", video, duration=1/fps)"
   ]
  },
  {
   "cell_type": "code",
   "execution_count": null,
   "metadata": {},
   "outputs": [],
   "source": [
    "t = 5\n",
    "fps=30\n",
    "\n",
    "id = 19\n",
    "\n",
    "imgs_dir= path_patients / f'Patient_{id2num[id]}/imgs'\n",
    "img_names = [_ for _ in os.listdir(imgs_dir) if '.png' in _]\n",
    "pad = len(str(len(img_names)))\n",
    "img_names.sort(key=lambda x: str(x.split('.')[0]).zfill(pad))\n",
    "video = []\n",
    "for i in range(0,len(img_names),t*60): # 60 == total fps\n",
    "    pic = imageio.imread(imgs_dir / img_names[i])\n",
    "    video.append(pic)\n",
    "\n",
    "imageio.mimsave(path_img_save / f\"gifs/imgs_{id}.gif\", video, duration=1/fps)"
   ]
  },
  {
   "cell_type": "code",
   "execution_count": null,
   "metadata": {},
   "outputs": [],
   "source": [
    "t = 15\n",
    "fps=30\n",
    "\n",
    "ids_list = sorted([i for i in id2num])\n",
    "t_img = t*fps\n",
    "\n",
    "list_imgs = []\n",
    "for id in tqdm(ids_list):\n",
    "    imgs_dir= path_patients / f'Patient_{id2num[id]}/imgs'\n",
    "    img_names = [_ for _ in os.listdir(imgs_dir) if '.png' in _]\n",
    "    pad = len(str(len(img_names)))\n",
    "    img_names.sort(key=lambda x: str(x.split('.')[0]).zfill(pad))\n",
    "\n",
    "    imgs = []\n",
    "    skip = len(img_names)//t_img\n",
    "    for i in range(0,t_img):\n",
    "        pic = imageio.imread(imgs_dir / img_names[i*skip])\n",
    "        imgs.append(pic)\n",
    "    \n",
    "    list_imgs.append(imgs)\n",
    "\n",
    "n = int(np.ceil(np.sqrt(len(id2num))))\n",
    "m = int(np.ceil(len(id2num)/n))\n",
    "video = []\n",
    "for i in tqdm(range(0,t_img)):\n",
    "    for j in n:\n",
    "        for k in m:\n",
    "            "
   ]
  },
  {
   "cell_type": "code",
   "execution_count": null,
   "metadata": {},
   "outputs": [],
   "source": [
    "t = 15\n",
    "fps=30\n",
    "\n",
    "ids_list = sorted([i for i in id2num])\n",
    "\n",
    "for id in ids_list:\n",
    "    imgs_dir= path_patients / f'Patient_{id2num[id]}/imgs'\n",
    "    img_names = [_ for _ in os.listdir(imgs_dir) if '.png' in _]\n",
    "    pad = len(str(len(img_names)))\n",
    "    img_names.sort(key=lambda x: str(x.split('.')[0]).zfill(pad))\n",
    "    cont = 0\n",
    "    skip = len(img_names)//(t*fps)\n",
    "    for i in range(0,t*fps):\n",
    "        cont += 1\n",
    "    print(\"id:\"+str(id), \"cont:\"+str(cont))"
   ]
  },
  {
   "cell_type": "code",
   "execution_count": null,
   "metadata": {},
   "outputs": [],
   "source": [
    "t = 15\n",
    "fps=30\n",
    "\n",
    "ids_list = [53,54,55,56,57,58,59,60,61,62,63,64]\n",
    "for id in tqdm(ids_list):\n",
    "    imgs_dir= path_patients / f'Patient_{id2num[id]}/imgs'\n",
    "    img_names = [_ for _ in os.listdir(imgs_dir) if '.png' in _]\n",
    "    pad = len(str(len(img_names)))\n",
    "    img_names.sort(key=lambda x: str(x.split('.')[0]).zfill(pad))\n",
    "    video = []\n",
    "    for i in range(0,len(img_names),t*60): # 60 == total fps\n",
    "        pic = imageio.imread(imgs_dir / img_names[i])\n",
    "        video.append(pic)\n",
    "\n",
    "    imageio.mimsave(path_img_save / f\"gifs/imgs_{id}.gif\", video, duration=1/fps)"
   ]
  },
  {
   "cell_type": "code",
   "execution_count": null,
   "metadata": {},
   "outputs": [],
   "source": [
    "gifs_folder = path_img_save / \"gifs\"\n",
    "archivos = os.listdir(gifs_folder)\n",
    "\n",
    "\n",
    "with open(gifs_folder / archivos[0],'rb') as f:\n",
    "    display(Image(data=f.read(), format='png',width=512,height=512))"
   ]
  }
 ],
 "metadata": {
  "kernelspec": {
   "display_name": "prova2",
   "language": "python",
   "name": "python3"
  },
  "language_info": {
   "codemirror_mode": {
    "name": "ipython",
    "version": 3
   },
   "file_extension": ".py",
   "mimetype": "text/x-python",
   "name": "python",
   "nbconvert_exporter": "python",
   "pygments_lexer": "ipython3",
   "version": "3.10.11"
  }
 },
 "nbformat": 4,
 "nbformat_minor": 2
}
